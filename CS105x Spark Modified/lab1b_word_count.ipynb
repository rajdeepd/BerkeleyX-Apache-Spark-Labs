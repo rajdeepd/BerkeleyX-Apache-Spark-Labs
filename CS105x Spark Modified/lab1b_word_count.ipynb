{
 "cells": [
  {
   "cell_type": "markdown",
   "metadata": {},
   "source": [
    "<a rel=\"license\" href=\"http://creativecommons.org/licenses/by-nc-nd/4.0/\"><img alt=\"Creative Commons License\" style=\"border-width:0\" src=\"https://i.creativecommons.org/l/by-nc-nd/4.0/88x31.png\" /></a><br />This work is licensed under a <a rel=\"license\" href=\"http://creativecommons.org/licenses/by-nc-nd/4.0/\">Creative Commons Attribution-NonCommercial-NoDerivatives 4.0 International License</a>."
   ]
  },
  {
   "cell_type": "markdown",
   "metadata": {},
   "source": [
    "\n",
    "# **Word Count Lab: Building a word count application**\n",
    "\n",
    "This lab will build on the techniques covered in the Spark tutorial to develop a simple word count application.  The volume of unstructured text in existence is growing dramatically, and Spark is an excellent tool for analyzing this type of data.  In this lab, we will write code that calculates the most common words in the [Complete Works of William Shakespeare](http://www.gutenberg.org/ebooks/100) retrieved from [Project Gutenberg](http://www.gutenberg.org/wiki/Main_Page).  This could also be scaled to larger applications, such as finding the most common words in Wikipedia.\n",
    "\n",
    "** During this lab we will cover: **\n",
    "* *Part 1:* Creating a base DataFrame and performing operations\n",
    "* *Part 2:* Counting with Spark SQL and DataFrames\n",
    "* *Part 3:* Finding unique words and a mean value\n",
    "* *Part 4:* Apply word count to a file\n",
    "\n",
    "Note that for reference, you can look up the details of the relevant methods in [Spark's Python API](https://spark.apache.org/docs/latest/api/python/pyspark.html#pyspark.sql)."
   ]
  },
  {
   "cell_type": "markdown",
   "metadata": {},
   "source": [
    "#### Part 1: Creating a base DataFrame and performing operations "
   ]
  },
  {
   "cell_type": "markdown",
   "metadata": {},
   "source": [
    "In this part of the lab, we will explore creating a base DataFrame with `sqlContext.createDataFrame` and using DataFrame operations to count words."
   ]
  },
  {
   "cell_type": "markdown",
   "metadata": {},
   "source": [
    "(1a) Create a DataFrame\n",
    "\n",
    "We'll start by generating a base DataFrame by using a Python list of tuples and the `sqlContext.createDataFrame` method.  Then we'll print out the type and schema of the DataFrame.  The Python API has several examples for using the [`createDataFrame` method](http://spark.apache.org/docs/latest/api/python/pyspark.sql.html#pyspark.sql.SQLContext.createDataFrame)."
   ]
  },
  {
   "cell_type": "code",
   "execution_count": 1,
   "metadata": {},
   "outputs": [
    {
     "name": "stdout",
     "output_type": "stream",
     "text": [
      "+--------+\n",
      "|    word|\n",
      "+--------+\n",
      "|     cat|\n",
      "|elephant|\n",
      "|     rat|\n",
      "|     rat|\n",
      "|     cat|\n",
      "+--------+\n",
      "\n",
      "<class 'pyspark.sql.dataframe.DataFrame'>\n",
      "root\n",
      " |-- word: string (nullable = true)\n",
      "\n"
     ]
    }
   ],
   "source": [
    "from pyspark import SparkContext\n",
    "sc = SparkContext(\"local\", \"first app\")\n",
    "from pyspark.sql import SparkSession\n",
    "spark = SparkSession \\\n",
    "    .builder \\\n",
    "    .appName(\"Python Spark SQL basic example\") \\\n",
    "    .config(\"spark.some.config.option\", \"some-value\") \\\n",
    "    .getOrCreate()\n",
    "\n",
    "wordsDF = spark.createDataFrame([('cat',), ('elephant',), ('rat',), ('rat',), ('cat', )], ['word'])\n",
    "wordsDF.show()\n",
    "print type(wordsDF)\n",
    "wordsDF.printSchema()"
   ]
  },
  {
   "cell_type": "markdown",
   "metadata": {},
   "source": [
    "** (1b) Using DataFrame functions to add an 's' **\n",
    "\n",
    "Let's create a new DataFrame from `wordsDF` by performing an operation that adds an 's' to each word.  To do this, we'll call the [`select` DataFrame function](http://spark.apache.org/docs/latest/api/python/pyspark.sql.html#pyspark.sql.DataFrame.select) and pass in a column that has the recipe for adding an 's' to our existing column.  To generate this `Column` object you should use the [`concat` function](http://spark.apache.org/docs/latest/api/python/pyspark.sql.html#pyspark.sql.functions.concat) found in the [`pyspark.sql.functions` module](http://spark.apache.org/docs/latest/api/python/pyspark.sql.html#module-pyspark.sql.functions).  Note that `concat` takes in two or more string columns and returns a single string column.  In order to pass in a constant or literal value like 's', you'll need to wrap that value with the [`lit` column function](http://spark.apache.org/docs/latest/api/python/pyspark.sql.html#pyspark.sql.functions.lit).\n"
   ]
  },
  {
   "cell_type": "code",
   "execution_count": 2,
   "metadata": {},
   "outputs": [
    {
     "name": "stdout",
     "output_type": "stream",
     "text": [
      "+---------+\n",
      "|     word|\n",
      "+---------+\n",
      "|     cats|\n",
      "|elephants|\n",
      "|     rats|\n",
      "|     rats|\n",
      "|     cats|\n",
      "+---------+\n",
      "\n"
     ]
    }
   ],
   "source": [
    "# TODO: Replace <FILL IN> with appropriate code\n",
    "from pyspark.sql.functions import lit, concat\n",
    "\n",
    "pluralDF = wordsDF.select(concat(wordsDF[\"word\"], lit(\"s\")).alias(\"word\"))\n",
    "pluralDF.show()"
   ]
  },
  {
   "cell_type": "markdown",
   "metadata": {},
   "source": [
    "** (1c) Length of each word **\n",
    "\n",
    "Now use the SQL `length` function to find the number of characters in each word.  The [`length` function](http://spark.apache.org/docs/latest/api/python/pyspark.sql.html#pyspark.sql.functions.length) is found in the `pyspark.sql.functions` module."
   ]
  },
  {
   "cell_type": "code",
   "execution_count": 3,
   "metadata": {},
   "outputs": [
    {
     "name": "stdout",
     "output_type": "stream",
     "text": [
      "+------+\n",
      "|length|\n",
      "+------+\n",
      "|     4|\n",
      "|     9|\n",
      "|     4|\n",
      "|     4|\n",
      "|     4|\n",
      "+------+\n",
      "\n"
     ]
    }
   ],
   "source": [
    "from pyspark.sql.functions import length\n",
    "pluralLengthsDF = pluralDF.select(length('word').alias('length'))\n",
    "pluralLengthsDF.show()"
   ]
  },
  {
   "cell_type": "code",
   "execution_count": 4,
   "metadata": {},
   "outputs": [],
   "source": [
    "# TEST Length of each word (1e)\n",
    "from collections import Iterable\n",
    "asSelf = lambda v: map(lambda r: r[0] if isinstance(r, Iterable) and len(r) == 1 else r, v)\n"
   ]
  },
  {
   "cell_type": "markdown",
   "metadata": {},
   "source": [
    "#### ** Part 2: Counting with Spark SQL and DataFrames **"
   ]
  },
  {
   "cell_type": "markdown",
   "metadata": {},
   "source": [
    "Now, let's count the number of times a particular word appears in the 'word' column. There are multiple ways to perform the counting, but some are much less efficient than others.\n",
    "\n",
    "A naive approach would be to call `collect` on all of the elements and count them in the driver program. While this approach could work for small datasets, we want an approach that will work for any size dataset including terabyte- or petabyte-sized datasets. In addition, performing all of the work in the driver program is slower than performing it in parallel in the workers. For these reasons, we will use data parallel operations."
   ]
  },
  {
   "cell_type": "markdown",
   "metadata": {},
   "source": [
    "** (2a) Using `groupBy` and `count` **\n",
    "\n",
    "Using DataFrames, we can preform aggregations by grouping the data using the [`groupBy` function](http://spark.apache.org/docs/latest/api/python/pyspark.sql.html#pyspark.sql.DataFrame.groupBy) on the DataFrame.  Using `groupBy` returns a [`GroupedData` object](http://spark.apache.org/docs/latest/api/python/pyspark.sql.html#pyspark.sql.GroupedData) and we can use the functions available for `GroupedData` to aggregate the groups.  For example, we can call `avg` or `count` on a `GroupedData` object to obtain the average of the values in the groups or the number of occurrences in the groups, respectively.\n",
    "\n",
    "To find the counts of words, group by the words and then use the [`count` function](http://spark.apache.org/docs/latest/api/python/pyspark.sql.html#pyspark.sql.GroupedData.count) to find the number of times that words occur."
   ]
  },
  {
   "cell_type": "code",
   "execution_count": 5,
   "metadata": {},
   "outputs": [
    {
     "name": "stdout",
     "output_type": "stream",
     "text": [
      "+--------+-----+\n",
      "|    word|count|\n",
      "+--------+-----+\n",
      "|     rat|    2|\n",
      "|     cat|    2|\n",
      "|elephant|    1|\n",
      "+--------+-----+\n",
      "\n"
     ]
    }
   ],
   "source": [
    "# TODO: Replace <FILL IN> with appropriate code\n",
    "wordCountsDF = (wordsDF\n",
    "                .groupby('word')\n",
    "                .count())\n",
    "wordCountsDF.show()"
   ]
  },
  {
   "cell_type": "markdown",
   "metadata": {},
   "source": [
    "#### ** Part 3: Finding unique words and a mean value **"
   ]
  },
  {
   "cell_type": "markdown",
   "metadata": {},
   "source": [
    "** (3a) Unique words **\n",
    "\n",
    "Calculate the number of unique words in `wordsDF`.  You can use other DataFrames that you have already created to make this easier."
   ]
  },
  {
   "cell_type": "code",
   "execution_count": 6,
   "metadata": {},
   "outputs": [
    {
     "name": "stdout",
     "output_type": "stream",
     "text": [
      "Requirement already satisfied: spark_notebook_helpers in /usr/local/lib/python2.7/site-packages (1.0.1)\n",
      "Requirement already satisfied: matplotlib>=1.5.1 in /usr/local/lib/python2.7/site-packages (from spark_notebook_helpers) (2.2.3)\n",
      "Requirement already satisfied: pyparsing!=2.0.4,!=2.1.2,!=2.1.6,>=2.0.1 in /usr/local/lib/python2.7/site-packages (from matplotlib>=1.5.1->spark_notebook_helpers) (2.3.0)\n",
      "Requirement already satisfied: backports.functools-lru-cache in /usr/local/lib/python2.7/site-packages (from matplotlib>=1.5.1->spark_notebook_helpers) (1.5)\n",
      "Requirement already satisfied: subprocess32 in /usr/local/lib/python2.7/site-packages (from matplotlib>=1.5.1->spark_notebook_helpers) (3.5.2)\n",
      "Requirement already satisfied: pytz in /usr/local/lib/python2.7/site-packages (from matplotlib>=1.5.1->spark_notebook_helpers) (2018.7)\n",
      "Requirement already satisfied: six>=1.10 in /usr/local/lib/python2.7/site-packages (from matplotlib>=1.5.1->spark_notebook_helpers) (1.11.0)\n",
      "Requirement already satisfied: python-dateutil>=2.1 in /usr/local/lib/python2.7/site-packages (from matplotlib>=1.5.1->spark_notebook_helpers) (2.7.5)\n",
      "Requirement already satisfied: kiwisolver>=1.0.1 in /usr/local/lib/python2.7/site-packages (from matplotlib>=1.5.1->spark_notebook_helpers) (1.0.1)\n",
      "Requirement already satisfied: cycler>=0.10 in /usr/local/lib/python2.7/site-packages (from matplotlib>=1.5.1->spark_notebook_helpers) (0.10.0)\n",
      "Requirement already satisfied: numpy>=1.7.1 in /usr/local/lib/python2.7/site-packages (from matplotlib>=1.5.1->spark_notebook_helpers) (1.15.4)\n",
      "Requirement already satisfied: setuptools in /usr/local/lib/python2.7/site-packages (from kiwisolver>=1.0.1->matplotlib>=1.5.1->spark_notebook_helpers) (39.1.0)\n",
      "\u001b[33mYou are using pip version 18.1, however version 19.1.1 is available.\n",
      "You should consider upgrading via the 'pip install --upgrade pip' command.\u001b[0m\n"
     ]
    }
   ],
   "source": [
    "!pip install spark_notebook_helpers"
   ]
  },
  {
   "cell_type": "code",
   "execution_count": 7,
   "metadata": {},
   "outputs": [
    {
     "name": "stdout",
     "output_type": "stream",
     "text": [
      "pluralLengthsDF: ['length']\n",
      "wordsDF: ['word']\n",
      "pluralDF: ['word']\n",
      "wordCountsDF: ['word', 'count']\n"
     ]
    }
   ],
   "source": [
    "from spark_notebook_helpers import printDataFrames\n",
    "\n",
    "#This function returns all the DataFrames in the notebook and their corresponding column names.\n",
    "printDataFrames(True)"
   ]
  },
  {
   "cell_type": "code",
   "execution_count": 8,
   "metadata": {},
   "outputs": [
    {
     "name": "stdout",
     "output_type": "stream",
     "text": [
      "3\n"
     ]
    }
   ],
   "source": [
    "uniqueWordsCount = wordsDF.distinct().count()\n",
    "print uniqueWordsCount"
   ]
  },
  {
   "cell_type": "code",
   "execution_count": 9,
   "metadata": {},
   "outputs": [],
   "source": [
    "# TEST Unique words (3a)\n",
    "# Test.assertEquals(uniqueWordsCount, 3, 'incorrect count of unique words')"
   ]
  },
  {
   "cell_type": "markdown",
   "metadata": {},
   "source": [
    "** (3b) Means of groups using DataFrames **\n",
    "\n",
    "Find the mean number of occurrences of words in `wordCountsDF`.\n",
    "\n",
    "You should use the [`mean` GroupedData method](http://spark.apache.org/docs/latest/api/python/pyspark.sql.html#pyspark.sql.GroupedData.mean) to accomplish this.  Note that when you use `groupBy` you don't need to pass in any columns.  A call without columns just prepares the DataFrame so that aggregation functions like `mean` can be applied."
   ]
  },
  {
   "cell_type": "code",
   "execution_count": 10,
   "metadata": {},
   "outputs": [
    {
     "name": "stdout",
     "output_type": "stream",
     "text": [
      "1.66666666667\n"
     ]
    }
   ],
   "source": [
    "# TODO: Replace <FILL IN> with appropriate code\n",
    "averageCount = (wordCountsDF\n",
    "                .groupby()\n",
    "                .mean()\n",
    "                .collect())[0][0]\n",
    "\n",
    "print averageCount"
   ]
  },
  {
   "cell_type": "code",
   "execution_count": 11,
   "metadata": {},
   "outputs": [],
   "source": [
    "# TEST Means of groups using DataFrames (3b)\n",
    "# Test.assertEquals(round(averageCount, 2), 1.67, 'incorrect value of averageCount')"
   ]
  },
  {
   "cell_type": "markdown",
   "metadata": {},
   "source": [
    "#### ** Part 4: Apply word count to a file **"
   ]
  },
  {
   "cell_type": "markdown",
   "metadata": {},
   "source": [
    "In this section we will finish developing our word count application.  We'll have to build the `wordCount` function, deal with real world problems like capitalization and punctuation, load in our data source, and compute the word count on the new data."
   ]
  },
  {
   "cell_type": "markdown",
   "metadata": {},
   "source": [
    "** (4a) The `wordCount` function **\n",
    "\n",
    "First, define a function for word counting.  You should reuse the techniques that have been covered in earlier parts of this lab.  This function should take in a DataFrame that is a list of words like `wordsDF` and return a DataFrame that has all of the words and their associated counts."
   ]
  },
  {
   "cell_type": "code",
   "execution_count": 12,
   "metadata": {},
   "outputs": [
    {
     "name": "stdout",
     "output_type": "stream",
     "text": [
      "+--------+-----+\n",
      "|    word|count|\n",
      "+--------+-----+\n",
      "|     rat|    2|\n",
      "|     cat|    2|\n",
      "|elephant|    1|\n",
      "+--------+-----+\n",
      "\n"
     ]
    }
   ],
   "source": [
    "# TODO: Replace <FILL IN> with appropriate code\n",
    "def wordCount(wordListDF):\n",
    "    \"\"\"Creates a DataFrame with word counts.\n",
    "\n",
    "    Args:\n",
    "        wordListDF (DataFrame of str): A DataFrame consisting of one string column called 'word'.\n",
    "\n",
    "    Returns:\n",
    "        DataFrame of (str, int): A DataFrame containing 'word' and 'count' columns.\n",
    "    \"\"\"\n",
    "    return wordListDF.groupby('word').count()\n",
    "\n",
    "wordCount(wordsDF).show()"
   ]
  },
  {
   "cell_type": "code",
   "execution_count": 13,
   "metadata": {},
   "outputs": [],
   "source": [
    "# TEST wordCount function (4a)\n",
    "#Test.assertEquals(sorted(wordCount(wordsDF).collect()),\n",
    "#                  [('cat', 2), ('elephant', 1), ('rat', 2)],\n",
    "#                  'incorrect definition for wordCountDF function')"
   ]
  },
  {
   "cell_type": "markdown",
   "metadata": {},
   "source": [
    "** (4b) Capitalization and punctuation **\n",
    "\n",
    "Real world files are more complicated than the data we have been using in this lab. Some of the issues we have to address are:\n",
    "  + Words should be counted independent of their capitialization (e.g., Spark and spark should be counted as the same word).\n",
    "  + All punctuation should be removed.\n",
    "  + Any leading or trailing spaces on a line should be removed.\n",
    "\n",
    "Define the function `removePunctuation` that converts all text to lower case, removes any punctuation, and removes leading and trailing spaces.  Use the Python [regexp_replace](http://spark.apache.org/docs/latest/api/python/pyspark.sql.html#pyspark.sql.functions.regexp_replace) module to remove any text that is not a letter, number, or space. If you are unfamiliar with regular expressions, you may want to review [this tutorial](https://developers.google.com/edu/python/regular-expressions) from Google.  Also, [this website](https://regex101.com/#python) is  a great resource for debugging your regular expression.\n",
    "\n",
    "You should also use the `trim` and `lower` functions found in [pyspark.sql.functions](http://spark.apache.org/docs/latest/api/python/pyspark.sql.html#pyspark.sql.functions).\n",
    "\n",
    "> Note that you shouldn't use any RDD operations or need to create custom user defined functions (udfs) to accomplish this task"
   ]
  },
  {
   "cell_type": "code",
   "execution_count": 14,
   "metadata": {},
   "outputs": [
    {
     "name": "stdout",
     "output_type": "stream",
     "text": [
      "+------------------------------------------+\n",
      "|sentence                                  |\n",
      "+------------------------------------------+\n",
      "|Hi, you!                                  |\n",
      "| No under_score!                          |\n",
      "| *      Remove punctuation then spaces  * |\n",
      "+------------------------------------------+\n",
      "\n",
      "+------------------------------+\n",
      "|sentence                      |\n",
      "+------------------------------+\n",
      "|hi you                        |\n",
      "|no underscore                 |\n",
      "|remove punctuation then spaces|\n",
      "+------------------------------+\n",
      "\n"
     ]
    }
   ],
   "source": [
    "# TODO: Replace <FILL IN> with appropriate code\n",
    "from pyspark.sql.functions import regexp_replace, trim, col, lower\n",
    "def removePunctuation(column):\n",
    "    \"\"\"Removes punctuation, changes to lower case, and strips leading and trailing spaces.\n",
    "\n",
    "    Note:\n",
    "        Only spaces, letters, and numbers should be retained.  Other characters should should be\n",
    "        eliminated (e.g. it's becomes its).  Leading and trailing spaces should be removed after\n",
    "        punctuation is removed.\n",
    "\n",
    "    Args:\n",
    "        column (Column): A Column containing a sentence.\n",
    "\n",
    "    Returns:\n",
    "        Column: A Column named 'sentence' with clean-up operations applied.\n",
    "    \"\"\"\n",
    "    return lower(trim(regexp_replace(column, '[^A-Za-z0-9 ]', ''))).alias('sentence')\n",
    "\n",
    "sentenceDF = spark.createDataFrame([('Hi, you!',),\n",
    "                                         (' No under_score!',),\n",
    "                                         (' *      Remove punctuation then spaces  * ',)], ['sentence'])\n",
    "sentenceDF.show(truncate=False)\n",
    "(sentenceDF\n",
    " .select(removePunctuation(col('sentence')))\n",
    " .show(truncate=False))"
   ]
  },
  {
   "cell_type": "code",
   "execution_count": 15,
   "metadata": {},
   "outputs": [],
   "source": [
    "# TEST Capitalization and punctuation (4b)\n",
    "#testPunctDF = sqlContext.createDataFrame([(\" The Elephant's 4 cats. \",)])\n",
    "#Test.assertEquals(testPunctDF.select(removePunctuation(col('_1'))).first()[0],\n",
    "#                  'the elephants 4 cats',\n",
    "#                  'incorrect definition for removePunctuation function')"
   ]
  },
  {
   "cell_type": "markdown",
   "metadata": {},
   "source": [
    "** (4c) Load a text file **\n",
    "\n",
    "For the next part of this lab, we will use the [Complete Works of William Shakespeare](http://www.gutenberg.org/ebooks/100) from [Project Gutenberg](http://www.gutenberg.org/wiki/Main_Page). To convert a text file into a DataFrame, we use the `sqlContext.read.text()` method. We also apply the recently defined `removePunctuation()` function using a `select()` transformation to strip out the punctuation and change all text to lower case.  Since the file is large we use `show(15)`, so that we only print 15 lines."
   ]
  },
  {
   "cell_type": "code",
   "execution_count": 16,
   "metadata": {},
   "outputs": [
    {
     "name": "stdout",
     "output_type": "stream",
     "text": [
      "+-------------------------------------------------------------------+\n",
      "|sentence                                                           |\n",
      "+-------------------------------------------------------------------+\n",
      "|this is the 100th etext file presented by project gutenberg and    |\n",
      "|is presented in cooperation with world library inc from their      |\n",
      "|library of the future and shakespeare cdroms  project gutenberg    |\n",
      "|often releases etexts that are not placed in the public domain     |\n",
      "|                                                                   |\n",
      "|shakespeare                                                        |\n",
      "|                                                                   |\n",
      "|this etext has certain copyright implications you should read      |\n",
      "|                                                                   |\n",
      "|this electronic version of the complete works of william           |\n",
      "|shakespeare is copyright 19901993 by world library inc and is      |\n",
      "|provided by project gutenberg etext of illinois benedictine college|\n",
      "|with permission  electronic and machine readable copies may be     |\n",
      "|distributed so long as such copies 1 are for your or others        |\n",
      "|personal use only and 2 are not distributed or used                |\n",
      "+-------------------------------------------------------------------+\n",
      "only showing top 15 rows\n",
      "\n"
     ]
    }
   ],
   "source": [
    "fileName = \"./t8.shakespeare.txt\"\n",
    "\n",
    "shakespeareDF = spark.read.text(fileName).select(removePunctuation(col('value')))\n",
    "shakespeareDF.show(15, truncate=False)"
   ]
  },
  {
   "cell_type": "markdown",
   "metadata": {},
   "source": [
    "** (4d) Words from lines **\n",
    "\n",
    "Before we can use the `wordcount()` function, we have to address two issues with the format of the DataFrame:\n",
    "  + The first issue is that  that we need to split each line by its spaces.\n",
    "  + The second issue is we need to filter out empty lines or words.\n",
    "\n",
    "Apply a transformation that will split each 'sentence' in the DataFrame by its spaces, and then transform from a DataFrame that contains lists of words into a DataFrame with each word in its own row.  To accomplish these two tasks you can use the `split` and `explode` functions found in [pyspark.sql.functions](http://spark.apache.org/docs/latest/api/python/pyspark.sql.html#pyspark.sql.functions).\n",
    "\n",
    "Once you have a DataFrame with one word per row you can apply the [DataFrame operation `where`](http://spark.apache.org/docs/latest/api/python/pyspark.sql.html#pyspark.sql.DataFrame.where) to remove the rows that contain ''.\n",
    "\n",
    "> Note that `shakeWordsDF` should be a DataFrame with one column named `word`."
   ]
  },
  {
   "cell_type": "code",
   "execution_count": 17,
   "metadata": {},
   "outputs": [
    {
     "name": "stdout",
     "output_type": "stream",
     "text": [
      "+-----------+\n",
      "|word       |\n",
      "+-----------+\n",
      "|this       |\n",
      "|is         |\n",
      "|the        |\n",
      "|100th      |\n",
      "|etext      |\n",
      "|file       |\n",
      "|presented  |\n",
      "|by         |\n",
      "|project    |\n",
      "|gutenberg  |\n",
      "|and        |\n",
      "|is         |\n",
      "|presented  |\n",
      "|in         |\n",
      "|cooperation|\n",
      "|with       |\n",
      "|world      |\n",
      "|library    |\n",
      "|inc        |\n",
      "|from       |\n",
      "+-----------+\n",
      "only showing top 20 rows\n",
      "\n",
      "900987\n"
     ]
    }
   ],
   "source": [
    "# TODO: Replace <FILL IN> with appropriate code\n",
    "from pyspark.sql.functions import split, explode\n",
    "shakeWordsDF = (shakespeareDF\n",
    "                .select(explode(split(shakespeareDF.sentence, ' '))\n",
    "                .alias(\"word\"))\n",
    "                .where(\"word != ''\"))\n",
    "\n",
    "shakeWordsDF.show(truncate=False)\n",
    "shakeWordsDFCount = shakeWordsDF.count()\n",
    "print shakeWordsDFCount\n"
   ]
  },
  {
   "cell_type": "code",
   "execution_count": 39,
   "metadata": {},
   "outputs": [],
   "source": [
    "# TEST Remove empty elements (4d)\n",
    "# Test.assertEquals(shakeWordsDF.count(), 882996, 'incorrect value for shakeWordCount')\n",
    "# Test.assertEquals(shakeWordsDF.columns, ['word'], \"shakeWordsDF should only contain the Column 'word'\")"
   ]
  },
  {
   "cell_type": "markdown",
   "metadata": {},
   "source": [
    "** (4e) Count the words **\n",
    "\n",
    "We now have a DataFrame that is only words.  Next, let's apply the `wordCount()` function to produce a list of word counts. We can view the first 20 words by using the `show()` action; however, we'd like to see the words in descending order of count, so we'll need to apply the [`orderBy` DataFrame method](http://spark.apache.org/docs/latest/api/python/pyspark.sql.html#pyspark.sql.DataFrame.orderBy) to first sort the DataFrame that is returned from `wordCount()`.\n",
    "\n",
    "You'll notice that many of the words are common English words. These are called stopwords. In a later lab, we will see how to eliminate them from the results."
   ]
  },
  {
   "cell_type": "code",
   "execution_count": 18,
   "metadata": {},
   "outputs": [
    {
     "name": "stdout",
     "output_type": "stream",
     "text": [
      "+----+-----+\n",
      "|word|count|\n",
      "+----+-----+\n",
      "| the|27643|\n",
      "| and|26728|\n",
      "|   i|20681|\n",
      "|  to|19198|\n",
      "|  of|18173|\n",
      "|   a|14613|\n",
      "| you|13649|\n",
      "|  my|12480|\n",
      "|that|11121|\n",
      "|  in|10967|\n",
      "|  is| 9598|\n",
      "| not| 8725|\n",
      "| for| 8244|\n",
      "|with| 7996|\n",
      "|  me| 7768|\n",
      "|  it| 7690|\n",
      "|  be| 7090|\n",
      "|your| 6882|\n",
      "| his| 6857|\n",
      "|this| 6847|\n",
      "+----+-----+\n",
      "only showing top 20 rows\n",
      "\n"
     ]
    }
   ],
   "source": [
    "# TODO: Replace <FILL IN> with appropriate code\n",
    "from pyspark.sql.functions import desc\n",
    "topWordsAndCountsDF = wordCount(shakeWordsDF).orderBy(desc('count'))\n",
    "topWordsAndCountsDF.show()"
   ]
  },
  {
   "cell_type": "code",
   "execution_count": 20,
   "metadata": {},
   "outputs": [],
   "source": [
    "# TEST Count the words (4e)\n",
    "# Test.assertEquals(topWordsAndCountsDF.take(15),\n",
    "#                  [(u'the', 27361), (u'and', 26028), (u'i', 20681), (u'to', 19150), (u'of', 17463),\n",
    "#                   (u'a', 14593), (u'you', 13615), (u'my', 12481), (u'in', 10956), (u'that', 10890),\n",
    "#                   (u'is', 9134), (u'not', 8497), (u'with', 7771), (u'me', 7769), (u'it', 7678)],\n",
    "#                  'incorrect value for top15WordsAndCountsDF')"
   ]
  }
 ],
 "metadata": {
  "kernelspec": {
   "display_name": "Python 2",
   "language": "python",
   "name": "python2"
  },
  "language_info": {
   "codemirror_mode": {
    "name": "ipython",
    "version": 2
   },
   "file_extension": ".py",
   "mimetype": "text/x-python",
   "name": "python",
   "nbconvert_exporter": "python",
   "pygments_lexer": "ipython2",
   "version": "2.7.15"
  },
  "name": "cs105_lab1b_word_count",
  "notebookId": 3854889752546080
 },
 "nbformat": 4,
 "nbformat_minor": 1
}
